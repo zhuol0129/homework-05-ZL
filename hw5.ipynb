{
  "cells": [
    {
      "cell_type": "markdown",
      "metadata": {},
      "source": [
        "---\n",
        "title: Homework 4\n",
        "jupyter: python3\n",
        "---\n",
        "\n",
        "\n",
        "This assignment will continue to use the American Community Survey (ACS) from the US Census.\n",
        "You will need to refer to the documentation to know what the ACS variable names mean. You can find a copy of the codebook in the [Lab 4 folder on Google Drive](https://drive.google.com/drive/u/0/folders/1jkY0mTxBhwOvvCJE_CJ3LWiOr_9V1ojZ)\n"
      ]
    },
    {
      "cell_type": "code",
      "execution_count": 1,
      "metadata": {},
      "outputs": [],
      "source": [
        "import warnings\n",
        "warnings.simplefilter(action='ignore', category=FutureWarning)\n",
        "\n",
        "import pandas as pd\n",
        "import numpy as np\n",
        "import seaborn as sb\n",
        "import matplotlib.pyplot as plt\n",
        "pd.options.mode.chained_assignment = None"
      ]
    },
    {
      "cell_type": "code",
      "execution_count": 2,
      "metadata": {},
      "outputs": [],
      "source": [
        "acs = pd.read_csv(\"./pums_short.csv.gz\")"
      ]
    },
    {
      "cell_type": "markdown",
      "metadata": {},
      "source": [
        "## Question 1: Working with missing data\n",
        "\n",
        "### Q1.a\n",
        "\n",
        "In the previous lab we counted the number of missing values for the `\"RNTP\"` column using"
      ]
    },
    {
      "cell_type": "code",
      "execution_count": 17,
      "metadata": {},
      "outputs": [
        {
          "data": {
            "text/plain": [
              "202728"
            ]
          },
          "execution_count": 17,
          "metadata": {},
          "output_type": "execute_result"
        }
      ],
      "source": [
        "acs[\"RNTP\"].isna().sum()"
      ]
    },
    {
      "cell_type": "code",
      "execution_count": 16,
      "metadata": {},
      "outputs": [
        {
          "data": {
            "text/plain": [
              "97644"
            ]
          },
          "execution_count": 16,
          "metadata": {},
          "output_type": "execute_result"
        }
      ],
      "source": [
        "acs[\"VALP\"].isna().sum()\n",
        "\n",
        "\n",
        "# acs[\"VALP\"].isna().sum(), acs[\"RNTP\"].isna().sum()"
      ]
    },
    {
      "cell_type": "code",
      "execution_count": 10,
      "metadata": {},
      "outputs": [
        {
          "name": "stdout",
          "output_type": "stream",
          "text": [
            "276632\n"
          ]
        }
      ],
      "source": [
        "print(acs.shape[0])\n",
        "\n",
        "# the sum of missing values in VALP and RNTP is greater than the number of rows in the dataset."
      ]
    },
    {
      "cell_type": "markdown",
      "metadata": {},
      "source": [
        "Repeat for the `\"VALP\"` column. (If you want, you can compute both totals simultaneously.)\n",
        "\n",
        "Print out the total number of rows in the `acs` table. What do you notice about the total number of rows and the sum of the missing values for these two columns?\n",
        "\n",
        "\n",
        "\n",
        "### Q1.b\n",
        "\n",
        "Write a single line of code that proves that 100% of observations are missing either the `\"VALP\"` or `\"RNTP\"` measurements.\n",
        "\n",
        "\n",
        "### Q1.c\n",
        "\n",
        "The `.dropna()` method has a `subset = ['column1', 'column2']` argument that allows you to indicate which columns your want to use to control how rows are dropped from the result.\n",
        "\n",
        "Create a table called `owners` that only includes households that have non-missing `\"VALP\"` entries. Print out the number of rows in this table and verify it matches the number of observations with *non-missing* `\"VALP\"` entries in `acs`. Hint:"
      ]
    },
    {
      "cell_type": "code",
      "execution_count": 11,
      "metadata": {},
      "outputs": [
        {
          "data": {
            "text/plain": [
              "True"
            ]
          },
          "execution_count": 11,
          "metadata": {},
          "output_type": "execute_result"
        }
      ],
      "source": [
        "#Q1.b \n",
        "(acs[\"VALP\"].isna() | acs[\"RNTP\"].isna()).mean() == 1.0"
      ]
    },
    {
      "cell_type": "code",
      "execution_count": 19,
      "metadata": {},
      "outputs": [
        {
          "data": {
            "text/plain": [
              "0    False\n",
              "1     True\n",
              "2     True\n",
              "3    False\n",
              "dtype: bool"
            ]
          },
          "execution_count": 19,
          "metadata": {},
          "output_type": "execute_result"
        }
      ],
      "source": [
        "hint = pd.Series([True, False, False, True])\n",
        "~ hint\n"
      ]
    },
    {
      "cell_type": "code",
      "execution_count": 23,
      "metadata": {},
      "outputs": [
        {
          "name": "stdout",
          "output_type": "stream",
          "text": [
            "178988\n"
          ]
        }
      ],
      "source": [
        "#Q1.c\n",
        "owners = acs.dropna(subset=['VALP'])\n",
        "print(owners.shape[0])\n"
      ]
    },
    {
      "cell_type": "code",
      "execution_count": 25,
      "metadata": {},
      "outputs": [
        {
          "data": {
            "text/plain": [
              "178988"
            ]
          },
          "execution_count": 25,
          "metadata": {},
          "output_type": "execute_result"
        }
      ],
      "source": [
        "acs[\"VALP\"].notna().sum()\n",
        "\n",
        "# it matches the number of rows in owner dataset"
      ]
    },
    {
      "cell_type": "code",
      "execution_count": 26,
      "metadata": {},
      "outputs": [
        {
          "name": "stdout",
          "output_type": "stream",
          "text": [
            "Proportion of missing HINCP values: 0.01331932867007844\n",
            "Median HINCP value: 75000.0\n"
          ]
        },
        {
          "data": {
            "text/plain": [
              "0"
            ]
          },
          "execution_count": 26,
          "metadata": {},
          "output_type": "execute_result"
        }
      ],
      "source": [
        "#Q1.d\n",
        "# Proportion of rows missing \"HINCP\" values\n",
        "missing_hincp_proportion = owners[\"HINCP\"].isna().mean()\n",
        "print(f\"Proportion of missing HINCP values: {missing_hincp_proportion}\")\n",
        "\n",
        "# Median value of non-missing \"HINCP\" values\n",
        "median_hincp = owners[\"HINCP\"].median()\n",
        "print(f\"Median HINCP value: {median_hincp}\")\n",
        "\n",
        "# Fill missing \"HINCP\" values with the median\n",
        "owners[\"HINCP\"].fillna(median_hincp, inplace=True)\n",
        "\n",
        "# Verify that there are no missing values in \"HINCP\"\n",
        "owners['HINCP'].isna().sum()"
      ]
    },
    {
      "cell_type": "code",
      "execution_count": 29,
      "metadata": {},
      "outputs": [
        {
          "name": "stdout",
          "output_type": "stream",
          "text": [
            "Owners - Mean: 103101.59041946946, Median: 75000.0, IQR: 85100.0, Std: 107811.39422510812\n",
            "Renters - Mean: 56607.35456808833, Median: 40000.0, IQR: 49600.0, Std: 64594.46491847548\n"
          ]
        }
      ],
      "source": [
        "#Q1.e \n",
        "# Create renters table with non-missing RNTP values\n",
        "renters = acs.dropna(subset=['RNTP'])\n",
        "\n",
        "# Median impute missing HINCP values for renters\n",
        "median_hincp_renters = renters[\"HINCP\"].median()\n",
        "renters[\"HINCP\"].fillna(median_hincp_renters, inplace=True)\n",
        "\n",
        "# Compute statistics for owners\n",
        "owners_mean = owners[\"HINCP\"].mean()\n",
        "owners_median = owners[\"HINCP\"].median()\n",
        "owners_iqr = owners[\"HINCP\"].quantile(0.75) - owners[\"HINCP\"].quantile(0.25)\n",
        "owners_std = owners[\"HINCP\"].std()\n",
        "\n",
        "# Compute statistics for renters\n",
        "renters_mean = renters[\"HINCP\"].mean()\n",
        "renters_median = renters[\"HINCP\"].median()\n",
        "renters_iqr = renters[\"HINCP\"].quantile(0.75) - renters[\"HINCP\"].quantile(0.25)\n",
        "renters_std = renters[\"HINCP\"].std()\n",
        "\n",
        "# Print statistics\n",
        "print(f\"Owners - Mean: {owners_mean}, Median: {owners_median}, IQR: {owners_iqr}, Std: {owners_std}\")\n",
        "print(f\"Renters - Mean: {renters_mean}, Median: {renters_median}, IQR: {renters_iqr}, Std: {renters_std}\")\n",
        "\n",
        "# Owners have higher location values. Owners have more spread. This menans that owners have hgher income and more variability in their income than renters.\n"
      ]
    },
    {
      "cell_type": "markdown",
      "metadata": {},
      "source": [
        "### Q1.d\n",
        "\n",
        "Using the `owners` table, what **proportion** of rows are missing `\"HINCP\"` values?\n",
        "\n",
        "Find the median value of the non-missing values (hint: built in Panadas methods automatically drop missing values).\n",
        "\n",
        "Using the `.fillna(VALUE, inplace = TRUE)` method, update the `\"HINCP\"` column of the `owners` table by making any missing values equal to median of the non-missing values.\n",
        "\n",
        "Verify by showing that all of the values are not missing for `\"HINCP\"`.\n",
        "\n",
        "\n",
        "\n",
        "### Q1.e\n",
        "\n",
        "Repeat the above steps to create a table `renters` that contains only rows for people who are renting (have non-missing `RNTP` values) and median impute any missing `HINCP` values.\n",
        "\n",
        "For both `owners` and `renters` compute the following quantities for the \"HINCP\" column.\n",
        "- mean\n",
        "- median\n",
        "- IQR\n",
        "- standard deviation\n",
        "\n",
        "Which group has the higher location values? Which group has more spread? Comment briefly on what this means.\n",
        "\n",
        "\n",
        "\n",
        "## Question 2: More on distributions\n",
        "\n",
        "### Q2.a Distributions of number of people in the household\n",
        "\n",
        "Create a histogram of the number of people in the household (`NP`) for the `acs` data. Use the `bins` argument to create a histogram with 20 bins. Briefly discuss the location, spread, and skew of the distribution.\n",
        "\n",
        "### Q2.b Summaries of `NP`\n",
        "\n",
        "Check your answers to the previous question by computing the mean, median, IQR, standard deviation, quantile skewness using the 0.25 and 0.75 quantile, and the coefficient of skewness of the `NP` column.\n",
        "\n",
        "### Q2.c Comparing conditional distribution of NP for owners and renters\n",
        "\n",
        "Create a side-by-side boxplot of the number of people in the household for owners and renters. What do you notice about the distributions of the number of people in the household for owners and renters?\n",
        "\n",
        "### Q2.d Effect size of the difference in means\n",
        "\n",
        "Compute the effect size of the difference in means of the number of people in the household for owners and renters. Use the formula for Cohen's $d$\n",
        "\n",
        "$$d = \\frac{\\bar X_1 - \\bar X_2}{S_p}$$\n",
        "\n",
        "where $\\bar X_1$ and $\\bar X_2$ are the means of the two groups and $S_p$ is the pooled standard deviation.\n",
        "\n",
        "Using the following table of effect sizes, how would you interpret the effect size of the difference in means of the number of people in the household for owners and renters?\n",
        "\n",
        "| Effect size | Interpretation |\n",
        "|-------------|-----------------|\n",
        "| (0, 0.2]    | Small           |\n",
        "| (0.2, 0.5]  | Medium          |\n",
        "| (0.5, 0.1]  | Large           |\n",
        "| (1, 2]      | Very large      |\n",
        "\n",
        "\n",
        "\n",
        "## Question 3: More on means and medians\n",
        "\n",
        "For this problem, we will investigate some theoretical properties of means and medians.\n",
        "\n",
        "### Q3.a\n",
        "\n",
        "We have already seen that the mean is the unique point $\\bar X$ that makes $\\sum_{i=1}^n (X_i - \\bar X) = 0$. While we didn't introduce it as such, it is also the case that $\\bar X$ is the point that **minimizes** $\\sum_{i=1}^n (X_i - \\bar X)^2$, the sum of squared deviations.\n",
        "\n",
        "Using the `HINCP` column of the `acs` data, demonstrate that the sum of squared deviations from the mean is less than the sum of squared deviations from the median ($\\sum_{i=1}^n (X_i - \\tilde X)^2$).\n",
        "\n",
        "Recall that `x**2` is how we square things in Python."
      ]
    },
    {
      "cell_type": "code",
      "execution_count": 30,
      "metadata": {},
      "outputs": [
        {
          "data": {
            "image/png": "[encoded data removed]",
            "text/plain": [
              "<Figure size 640x480 with 1 Axes>"
            ]
          },
          "metadata": {},
          "output_type": "display_data"
        }
      ],
      "source": [
        "#Q2.a\n",
        "acs['NP'].hist(bins=20)\n",
        "plt.xlabel('Number of People in Household (NP)')\n",
        "plt.ylabel('Frequency')\n",
        "plt.title('Histogram of Number of People in Household')\n",
        "plt.show()\n",
        "\n",
        "# The distribution of the number of people in the household (NP) is right-skewed, with most households having fewer people. The spread is wide, but the majority of the data is concentrated aroun 2.5"
      ]
    },
    {
      "cell_type": "code",
      "execution_count": 31,
      "metadata": {},
      "outputs": [
        {
          "name": "stdout",
          "output_type": "stream",
          "text": [
            "Mean: 2.208764712686891\n",
            "Median: 2.0\n",
            "IQR: 2.0\n",
            "Standard Deviation: 1.5263892280569145\n",
            "Quantile Skewness: 0.0\n",
            "Coefficient of Skewness: 0.41031090009586973\n"
          ]
        }
      ],
      "source": [
        "#Q2.b\n",
        "# Compute statistics for the NP column\n",
        "np_mean = acs['NP'].mean()\n",
        "np_median = acs['NP'].median()\n",
        "np_iqr = acs['NP'].quantile(0.75) - acs['NP'].quantile(0.25)\n",
        "np_std = acs['NP'].std()\n",
        "np_quantile_skewness = (acs['NP'].quantile(0.75) + acs['NP'].quantile(0.25) - 2 * np_median) / np_iqr\n",
        "np_coefficient_skewness = 3 * (np_mean - np_median) / np_std\n",
        "\n",
        "# Print statistics\n",
        "print(f\"Mean: {np_mean}\")\n",
        "print(f\"Median: {np_median}\")\n",
        "print(f\"IQR: {np_iqr}\")\n",
        "print(f\"Standard Deviation: {np_std}\")\n",
        "print(f\"Quantile Skewness: {np_quantile_skewness}\")\n",
        "print(f\"Coefficient of Skewness: {np_coefficient_skewness}\")"
      ]
    },
    {
      "cell_type": "code",
      "execution_count": 33,
      "metadata": {},
      "outputs": [
        {
          "data": {
            "image/png": "[encoded data removed]",
            "text/plain": [
              "<Figure size 640x480 with 1 Axes>"
            ]
          },
          "metadata": {},
          "output_type": "display_data"
        }
      ],
      "source": [
        "\n",
        "# Q2.c\n",
        "# Create a new column to distinguish between owners and renters\n",
        "owners['Status'] = 'Owner'\n",
        "renters['Status'] = 'Renter'\n",
        "\n",
        "# Combine the two dataframes\n",
        "combined = pd.concat([owners, renters])\n",
        "\n",
        "# Create the boxplot\n",
        "sb.boxplot(x='Status', y='NP', data=combined)\n",
        "plt.xlabel('Household Status')\n",
        "plt.ylabel('Number of People in Household (NP)')\n",
        "plt.title('Number of People in Household for Owners and Renters')\n",
        "plt.show()\n",
        "\n",
        "# Both distributions have a similar median\n",
        "# There are more outliers in the owner's distribution. The spread is greater in renters than in owners."
      ]
    },
    {
      "cell_type": "markdown",
      "metadata": {},
      "source": [
        "### Q3.b\n",
        "\n",
        "Now, using $\\bar X$ and $\\tilde X$, compute the **sum of absolute distances**, $\\sum_{i=1}^n | X_i - \\bar X |$ and $\\sum_{i=1}^n |X_i - \\tilde X|$. Recall the `.abs()` method can compute the absolute value of a series."
      ]
    },
    {
      "cell_type": "markdown",
      "metadata": {},
      "source": [
        "### Q3.c\n",
        "\n",
        "While we are not rising to the level of a mathematical proof, what do these result suggest about which type of measure of location would minimize the sum of absolute differences?\n"
      ]
    }
  ],
  "metadata": {
    "kernelspec": {
      "display_name": "Python 3 (ipykernel)",
      "language": "python",
      "name": "python3",
      "path": "/Users/mark/Documents/Professional/Teaching/umich/data-science-101-materials/env/share/jupyter/kernels/python3"
    },
    "language_info": {
      "codemirror_mode": {
        "name": "ipython",
        "version": 3
      },
      "file_extension": ".py",
      "mimetype": "text/x-python",
      "name": "python",
      "nbconvert_exporter": "python",
      "pygments_lexer": "ipython3",
      "version": "3.12.4"
    }
  },
  "nbformat": 4,
  "nbformat_minor": 4
}
